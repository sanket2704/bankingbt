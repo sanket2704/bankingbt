{
  "metadata": {
    "language_info": {
      "codemirror_mode": {
        "name": "python",
        "version": 3
      },
      "file_extension": ".py",
      "mimetype": "text/x-python",
      "name": "python",
      "nbconvert_exporter": "python",
      "pygments_lexer": "ipython3",
      "version": "3.8"
    },
    "kernelspec": {
      "name": "python",
      "display_name": "Python (Pyodide)",
      "language": "python"
    }
  },
  "nbformat_minor": 4,
  "nbformat": 4,
  "cells": [
    {
      "cell_type": "code",
      "source": "// SPDX-License-Identifier: MIT\npragma solidity ^0.6;\n\ncontract banking\n{\n mapping(address=>uint) public user_account;\n mapping(address=>bool) public user_exists;\n function create_account() public payable returns(string memory)\n {\n require(user_exists[msg.sender]==false,'Account already created');\n if(msg.value==0)\n {\nuser_account[msg.sender]=0;\nuser_exists[msg.sender]=true;\n return \"Account created\";\n }\n require(user_exists[msg.sender]==false,\"Account already created\");\nuser_account[msg.sender]=msg.value;\nuser_exists[msg.sender]=true;\n return \"Account created\";\n }\n function deposit(uint amount) public payable returns(string memory)\n {\n require(user_exists[msg.sender]==true,\"Account not created\");\n require(amount>0,\"Value for deposit is Zero\");\nuser_account[msg.sender]=user_account[msg.sender]+amount;\n return \"Deposited Successfully\";\n }\n function withdraw(uint amount) public payable returns(string memory)\n {\n     require(user_account[msg.sender]>amount,\"Insufficient Balance\");\n require(user_exists[msg.sender]==true,\"Account not created\");\n require(amount>0,\"Amount should be more than zero\");\nuser_account[msg.sender]=user_account[msg.sender]-amount;\n\n return \"Withdrawl Successful\";\n }\n function transfer(address payable userAddress, uint amount) public payable returns(string memory)\n {\n require(user_account[msg.sender]>amount,\"Insufficient balance in Bank account\");\n require(user_exists[msg.sender]==true,\"Account is not created\");\n require(user_exists[userAddress]==true,\"Transfer account does not exist\");\n require(amount>0,\"Amount should be more than zero\");\nuser_account[msg.sender]=user_account[msg.sender]-amount;\nuser_account[userAddress]=user_account[userAddress]+amount;\n return \"Transfer Successful\";\n }\n\n function user_balance() public view returns(uint)\n {\n     \n return user_account[msg.sender];\n }\n function account_exist() public view returns(bool)\n {\n return user_exists[msg.sender];\n }\n\n }\n\n",
      "metadata": {},
      "execution_count": null,
      "outputs": []
    }
  ]
}